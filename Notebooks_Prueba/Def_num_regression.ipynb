{
 "cells": [
  {
   "cell_type": "markdown",
   "id": "fcbfe8d5-9210-4814-8ba6-3b95b715f7e0",
   "metadata": {},
   "source": [
    "## Funcion: get_features_num_regression\n",
    "Esta función recibe como argumentos un dataframe, el nombre de una de las columnas del mismo (argumento 'target_col'), que debería ser el target de un hipotético modelo de regresión, es decir debe ser una variable numérica continua o discreta pero con alta cardinalidad, además de un argumento 'umbral_corr', de tipo float que debe estar entre 0 y 1 y una variable float \"pvalue\" cuyo valor debe ser por defecto \"None\".\n",
    "\n",
    "La función debe devolver una lista con las columnas numéricas del dataframe cuya correlación con la columna designada por \"target_col\" sea superior en valor absoluto al valor dado por \"umbral_corr\". Además si la variable \"pvalue\" es distinta de None, sólo devolvera las columnas numéricas cuya correlación supere el valor indicado y además supere el test de hipótesis con significación mayor o igual a 1-pvalue.\n",
    "\n",
    "La función debe hacer todas las comprobaciones necesarias para no dar error como consecuecia de los valores de entrada. Es decir hará un check de los valores asignados a los argumentos de entrada y si estos no son adecuados debe retornar None y printar por pantalla la razón de este comportamiento. Ojo entre las comprobaciones debe estar que \"target_col\" hace referencia a una variable numérica continua del dataframe."
   ]
  },
  {
   "cell_type": "code",
   "execution_count": 1,
   "id": "fcfdb259-df94-4fff-93be-48c93c672428",
   "metadata": {},
   "outputs": [],
   "source": [
    "import pandas as pd\n",
    "import numpy as np\n",
    "from scipy.stats import pearsonr"
   ]
  },
  {
   "cell_type": "code",
   "execution_count": 18,
   "id": "a39b1a30-c253-4e56-91c6-1ef77675728d",
   "metadata": {},
   "outputs": [],
   "source": [
    "import pandas as pd\n",
    "import numpy as np\n",
    "from scipy.stats import pearsonr\n",
    "\n",
    "def columnas_correlacionadas(df, target_col, umbral_corr, pvalue=None):\n",
    "    \"\"\"\n",
    "    DEVUELVA UNA LISTA DE COLUMNAS NUMERICAS CUYA CORRELACION CON TARGET SUPERAEL UMBRAL DE CORRELACION.\n",
    "    SI ESPECIFICA `PVALUE`, TAMBIEN VERIFICA QUE LA CORRELACION SEA SIGNIFICATIVA.\n",
    "    \n",
    "    Args:\n",
    "        df (pd.DataFrame): DataFrame a introducir.\n",
    "        target_col (str): Nombre de la columna objetivo (debe ser numérica y con alta cardinalidad).\n",
    "        umbral_corr (float): Umbral de correlación (entre 0 y 1).\n",
    "        pvalue (float, optional): Nivel de significancia deseado (por ejemplo 0.05). Por defecto None.\n",
    "    \n",
    "    Returns:\n",
    "        list or None: Lista de nombres de columnas que cumplen los criterios. Imprime errores si no es válido.\n",
    "    \"\"\"\n",
    "    \n",
    "    if not isinstance(df, pd.DataFrame):\n",
    "        print(\"Error: el primer argumento debe ser un DataFrame.\")\n",
    "        return None\n",
    "\n",
    "    if target_col not in df.columns:\n",
    "        print(f\"Error: la columna '{target_col}' no existe en el DataFrame.\")\n",
    "        return None\n",
    "\n",
    "    if not np.issubdtype(df[target_col].dtype, np.number):\n",
    "        print(f\"Error: la columna '{target_col}' no es numérica.\")\n",
    "        return None\n",
    "\n",
    "    if df[target_col].nunique() < 10:\n",
    "        print(f\"Error: '{target_col}' no parece ser una variable continua (baja cardinalidad).\")\n",
    "        return None\n",
    "\n",
    "    if not (0 <= umbral_corr <= 1):\n",
    "        print(\"Error: 'umbral_corr' debe estar entre 0 y 1.\")\n",
    "        return None\n",
    "\n",
    "    if pvalue is not None:\n",
    "        if not isinstance(pvalue, (float, int)) or not (0 < pvalue < 1):\n",
    "            print(\"Error: 'pvalue' debe ser un número entre 0 y 1 o None.\")\n",
    "            return None\n",
    "\n",
    "    columnas_validas = []\n",
    "\n",
    "    num_cols = df.select_dtypes(include=[np.number]).columns.drop(target_col)\n",
    "\n",
    "    for col in num_cols:\n",
    "        series = df[[target_col, col]].dropna()\n",
    "        corr, pval = pearsonr(series[target_col], series[col])\n",
    "\n",
    "        if abs(corr) >= umbral_corr:\n",
    "            if pvalue is None or pval <= (1 - pvalue):\n",
    "                columnas_validas.append(col)\n",
    "\n",
    "    return columnas_validas\n"
   ]
  },
  {
   "cell_type": "code",
   "execution_count": 19,
   "id": "53880d1e-2e6a-46d5-a96f-9c857f546346",
   "metadata": {},
   "outputs": [
    {
     "data": {
      "text/html": [
       "<div>\n",
       "<style scoped>\n",
       "    .dataframe tbody tr th:only-of-type {\n",
       "        vertical-align: middle;\n",
       "    }\n",
       "\n",
       "    .dataframe tbody tr th {\n",
       "        vertical-align: top;\n",
       "    }\n",
       "\n",
       "    .dataframe thead th {\n",
       "        text-align: right;\n",
       "    }\n",
       "</style>\n",
       "<table border=\"1\" class=\"dataframe\">\n",
       "  <thead>\n",
       "    <tr style=\"text-align: right;\">\n",
       "      <th></th>\n",
       "      <th>longitude</th>\n",
       "      <th>latitude</th>\n",
       "      <th>housing_median_age</th>\n",
       "      <th>total_rooms</th>\n",
       "      <th>total_bedrooms</th>\n",
       "      <th>population</th>\n",
       "      <th>households</th>\n",
       "      <th>median_income</th>\n",
       "      <th>median_house_value</th>\n",
       "      <th>ocean_proximity</th>\n",
       "    </tr>\n",
       "  </thead>\n",
       "  <tbody>\n",
       "    <tr>\n",
       "      <th>0</th>\n",
       "      <td>-122.23</td>\n",
       "      <td>37.88</td>\n",
       "      <td>41.0</td>\n",
       "      <td>880.0</td>\n",
       "      <td>129.0</td>\n",
       "      <td>322.0</td>\n",
       "      <td>126.0</td>\n",
       "      <td>8.3252</td>\n",
       "      <td>452600.0</td>\n",
       "      <td>NEAR BAY</td>\n",
       "    </tr>\n",
       "    <tr>\n",
       "      <th>1</th>\n",
       "      <td>-122.22</td>\n",
       "      <td>37.86</td>\n",
       "      <td>21.0</td>\n",
       "      <td>7099.0</td>\n",
       "      <td>1106.0</td>\n",
       "      <td>2401.0</td>\n",
       "      <td>1138.0</td>\n",
       "      <td>8.3014</td>\n",
       "      <td>358500.0</td>\n",
       "      <td>NEAR BAY</td>\n",
       "    </tr>\n",
       "    <tr>\n",
       "      <th>2</th>\n",
       "      <td>-122.24</td>\n",
       "      <td>37.85</td>\n",
       "      <td>52.0</td>\n",
       "      <td>1467.0</td>\n",
       "      <td>190.0</td>\n",
       "      <td>496.0</td>\n",
       "      <td>177.0</td>\n",
       "      <td>7.2574</td>\n",
       "      <td>352100.0</td>\n",
       "      <td>NEAR BAY</td>\n",
       "    </tr>\n",
       "    <tr>\n",
       "      <th>3</th>\n",
       "      <td>-122.25</td>\n",
       "      <td>37.85</td>\n",
       "      <td>52.0</td>\n",
       "      <td>1274.0</td>\n",
       "      <td>235.0</td>\n",
       "      <td>558.0</td>\n",
       "      <td>219.0</td>\n",
       "      <td>5.6431</td>\n",
       "      <td>341300.0</td>\n",
       "      <td>NEAR BAY</td>\n",
       "    </tr>\n",
       "    <tr>\n",
       "      <th>4</th>\n",
       "      <td>-122.25</td>\n",
       "      <td>37.85</td>\n",
       "      <td>52.0</td>\n",
       "      <td>1627.0</td>\n",
       "      <td>280.0</td>\n",
       "      <td>565.0</td>\n",
       "      <td>259.0</td>\n",
       "      <td>3.8462</td>\n",
       "      <td>342200.0</td>\n",
       "      <td>NEAR BAY</td>\n",
       "    </tr>\n",
       "  </tbody>\n",
       "</table>\n",
       "</div>"
      ],
      "text/plain": [
       "   longitude  latitude  housing_median_age  total_rooms  total_bedrooms  \\\n",
       "0    -122.23     37.88                41.0        880.0           129.0   \n",
       "1    -122.22     37.86                21.0       7099.0          1106.0   \n",
       "2    -122.24     37.85                52.0       1467.0           190.0   \n",
       "3    -122.25     37.85                52.0       1274.0           235.0   \n",
       "4    -122.25     37.85                52.0       1627.0           280.0   \n",
       "\n",
       "   population  households  median_income  median_house_value ocean_proximity  \n",
       "0       322.0       126.0         8.3252            452600.0        NEAR BAY  \n",
       "1      2401.0      1138.0         8.3014            358500.0        NEAR BAY  \n",
       "2       496.0       177.0         7.2574            352100.0        NEAR BAY  \n",
       "3       558.0       219.0         5.6431            341300.0        NEAR BAY  \n",
       "4       565.0       259.0         3.8462            342200.0        NEAR BAY  "
      ]
     },
     "execution_count": 19,
     "metadata": {},
     "output_type": "execute_result"
    }
   ],
   "source": [
    "df = pd.read_csv(\"C:/Users/david/Repo_Prueba/ONLINE_DS_THEBRIDGE_Deivid-Jimenez/Sprint.09_Estadística Inferencial/Unidad_02_Introduccion_a_Machine_Learning/data/ejemplo_housing.csv\")\n",
    "df = pd.DataFrame(df)\n",
    "\n",
    "df.head()"
   ]
  },
  {
   "cell_type": "code",
   "execution_count": 20,
   "id": "37faa3c1-0cc2-476a-8b8a-4d83904e4ac6",
   "metadata": {},
   "outputs": [
    {
     "name": "stdout",
     "output_type": "stream",
     "text": [
      "<class 'pandas.core.frame.DataFrame'>\n",
      "RangeIndex: 20433 entries, 0 to 20432\n",
      "Data columns (total 10 columns):\n",
      " #   Column              Non-Null Count  Dtype  \n",
      "---  ------              --------------  -----  \n",
      " 0   longitude           20433 non-null  float64\n",
      " 1   latitude            20433 non-null  float64\n",
      " 2   housing_median_age  20433 non-null  float64\n",
      " 3   total_rooms         20433 non-null  float64\n",
      " 4   total_bedrooms      20433 non-null  float64\n",
      " 5   population          20433 non-null  float64\n",
      " 6   households          20433 non-null  float64\n",
      " 7   median_income       20433 non-null  float64\n",
      " 8   median_house_value  20433 non-null  float64\n",
      " 9   ocean_proximity     20433 non-null  object \n",
      "dtypes: float64(9), object(1)\n",
      "memory usage: 1.6+ MB\n"
     ]
    }
   ],
   "source": [
    "df.info()"
   ]
  },
  {
   "cell_type": "code",
   "execution_count": 32,
   "id": "dbdc96e3-5c9c-4986-b9d5-d49c9ae1974a",
   "metadata": {},
   "outputs": [
    {
     "data": {
      "text/plain": [
       "['latitude', 'housing_median_age', 'total_rooms', 'median_income']"
      ]
     },
     "execution_count": 32,
     "metadata": {},
     "output_type": "execute_result"
    }
   ],
   "source": [
    "columnas_correlacionadas(df, target_col='median_house_value', umbral_corr=0.1, pvalue=0.05)\t"
   ]
  }
 ],
 "metadata": {
  "kernelspec": {
   "display_name": "Python 3 (ipykernel)",
   "language": "python",
   "name": "python3"
  },
  "language_info": {
   "codemirror_mode": {
    "name": "ipython",
    "version": 3
   },
   "file_extension": ".py",
   "mimetype": "text/x-python",
   "name": "python",
   "nbconvert_exporter": "python",
   "pygments_lexer": "ipython3",
   "version": "3.12.1"
  }
 },
 "nbformat": 4,
 "nbformat_minor": 5
}
