{
 "cells": [
  {
   "cell_type": "code",
   "execution_count": 77,
   "id": "57c997cc",
   "metadata": {},
   "outputs": [],
   "source": [
    "import pandas as pd\n",
    "import numpy as np\n",
    "\n",
    "from scipy.stats import mannwhitneyu\n",
    "from scipy import stats"
   ]
  },
  {
   "cell_type": "code",
   "execution_count": 103,
   "id": "777f8e35",
   "metadata": {},
   "outputs": [],
   "source": [
    "df_titanic = pd.read_csv(\"./data/titanic.csv\")\n",
    "df_housing = pd.read_csv(\"./data/ejemplo_housing.csv\")\n",
    "df_car = pd.read_csv(\"./data/car_price.csv\")"
   ]
  },
  {
   "cell_type": "markdown",
   "id": "8e8d011d",
   "metadata": {},
   "source": [
    "### Funcion: tipifica_variables\n",
    "\n",
    "Esta función debe recibir como argumento un dataframe, un entero (`umbral_categoria`) y un float (`umbral_continua`). La función debe devolver un dataframe con dos columnas \"nombre_variable\", \"tipo_sugerido\" que tendrá tantas filas como columnas el dataframe. En cada fila irá el nombre de una de las columnas y una sugerencia del tipo de variable. Esta sugerencia se hará siguiendo las siguientes pautas:\n",
    "+ Si la cardinalidad es 2, asignara \"Binaria\"\n",
    "+ Si la cardinalidad es menor que `umbral_categoria` asignara \"Categórica\"\n",
    "+ Si la cardinalidad es mayor o igual que `umbral_categoria`, entonces entra en juego el tercer argumento:\n",
    "    * Si además el porcentaje de cardinalidad es superior o igual a `umbral_continua`, asigna \"Numerica Continua\"\n",
    "    * En caso contrario, asigna \"Numerica Discreta\"\n"
   ]
  },
  {
   "cell_type": "code",
   "execution_count": 79,
   "id": "d501774c",
   "metadata": {},
   "outputs": [],
   "source": [
    "def tipifica_variables(dataframe, umbral_categoria = int, umbral_continua = float):\n",
    "\n",
    "    df_resultado = pd.DataFrame([dataframe.nunique(), dataframe.nunique()/len(dataframe)*100]).T.rename(columns = {0: \"Cardinalidad\", 1: \"%_Cardinalidad\"})\n",
    "    \n",
    "    df_resultado[\"Tipo\"] = \"Numérica Discreta\"\n",
    "    df_resultado.loc[df_resultado[\"Cardinalidad\"] < umbral_categoria, \"Tipo\"] = \"Categórica\"\n",
    "    df_resultado.loc[df_resultado[\"Cardinalidad\"] == 2.0, \"Tipo\"] = \"Binaria\"\n",
    "    df_resultado.loc[df_resultado[\"%_Cardinalidad\"] >= umbral_continua, \"Tipo\"] = \"Numérica Continua\"\n",
    "\n",
    "    return df_resultado"
   ]
  },
  {
   "cell_type": "code",
   "execution_count": 80,
   "id": "a1bf4090",
   "metadata": {},
   "outputs": [
    {
     "data": {
      "text/html": [
       "<div>\n",
       "<style scoped>\n",
       "    .dataframe tbody tr th:only-of-type {\n",
       "        vertical-align: middle;\n",
       "    }\n",
       "\n",
       "    .dataframe tbody tr th {\n",
       "        vertical-align: top;\n",
       "    }\n",
       "\n",
       "    .dataframe thead th {\n",
       "        text-align: right;\n",
       "    }\n",
       "</style>\n",
       "<table border=\"1\" class=\"dataframe\">\n",
       "  <thead>\n",
       "    <tr style=\"text-align: right;\">\n",
       "      <th></th>\n",
       "      <th>Cardinalidad</th>\n",
       "      <th>%_Cardinalidad</th>\n",
       "      <th>Tipo</th>\n",
       "    </tr>\n",
       "  </thead>\n",
       "  <tbody>\n",
       "    <tr>\n",
       "      <th>sex</th>\n",
       "      <td>2.0</td>\n",
       "      <td>0.224467</td>\n",
       "      <td>Binaria</td>\n",
       "    </tr>\n",
       "    <tr>\n",
       "      <th>age</th>\n",
       "      <td>89.0</td>\n",
       "      <td>9.988777</td>\n",
       "      <td>Numérica Discreta</td>\n",
       "    </tr>\n",
       "    <tr>\n",
       "      <th>sibsp</th>\n",
       "      <td>7.0</td>\n",
       "      <td>0.785634</td>\n",
       "      <td>Numérica Discreta</td>\n",
       "    </tr>\n",
       "    <tr>\n",
       "      <th>parch</th>\n",
       "      <td>7.0</td>\n",
       "      <td>0.785634</td>\n",
       "      <td>Numérica Discreta</td>\n",
       "    </tr>\n",
       "    <tr>\n",
       "      <th>fare</th>\n",
       "      <td>248.0</td>\n",
       "      <td>27.833895</td>\n",
       "      <td>Numérica Continua</td>\n",
       "    </tr>\n",
       "    <tr>\n",
       "      <th>class</th>\n",
       "      <td>3.0</td>\n",
       "      <td>0.336700</td>\n",
       "      <td>Categórica</td>\n",
       "    </tr>\n",
       "    <tr>\n",
       "      <th>who</th>\n",
       "      <td>3.0</td>\n",
       "      <td>0.336700</td>\n",
       "      <td>Categórica</td>\n",
       "    </tr>\n",
       "    <tr>\n",
       "      <th>adult_male</th>\n",
       "      <td>2.0</td>\n",
       "      <td>0.224467</td>\n",
       "      <td>Binaria</td>\n",
       "    </tr>\n",
       "    <tr>\n",
       "      <th>embark_town</th>\n",
       "      <td>3.0</td>\n",
       "      <td>0.336700</td>\n",
       "      <td>Categórica</td>\n",
       "    </tr>\n",
       "    <tr>\n",
       "      <th>alive</th>\n",
       "      <td>2.0</td>\n",
       "      <td>0.224467</td>\n",
       "      <td>Binaria</td>\n",
       "    </tr>\n",
       "    <tr>\n",
       "      <th>alone</th>\n",
       "      <td>2.0</td>\n",
       "      <td>0.224467</td>\n",
       "      <td>Binaria</td>\n",
       "    </tr>\n",
       "  </tbody>\n",
       "</table>\n",
       "</div>"
      ],
      "text/plain": [
       "             Cardinalidad  %_Cardinalidad               Tipo\n",
       "sex                   2.0        0.224467            Binaria\n",
       "age                  89.0        9.988777  Numérica Discreta\n",
       "sibsp                 7.0        0.785634  Numérica Discreta\n",
       "parch                 7.0        0.785634  Numérica Discreta\n",
       "fare                248.0       27.833895  Numérica Continua\n",
       "class                 3.0        0.336700         Categórica\n",
       "who                   3.0        0.336700         Categórica\n",
       "adult_male            2.0        0.224467            Binaria\n",
       "embark_town           3.0        0.336700         Categórica\n",
       "alive                 2.0        0.224467            Binaria\n",
       "alone                 2.0        0.224467            Binaria"
      ]
     },
     "execution_count": 80,
     "metadata": {},
     "output_type": "execute_result"
    }
   ],
   "source": [
    "# prueba\n",
    "\n",
    "tipifica_variables(df_titanic, 5, 25)"
   ]
  },
  {
   "cell_type": "markdown",
   "id": "a6209c0e",
   "metadata": {},
   "source": [
    "### Funcion: get_features_cat_regression"
   ]
  },
  {
   "cell_type": "markdown",
   "id": "f26807dd",
   "metadata": {},
   "source": [
    "Esta función recibe como argumentos un dataframe, el nombre de una de las columnas del mismo (argumento 'target_col'), que debería ser el target de un hipotético modelo de regresión, es decir debe ser una variable numérica continua o discreta pero con alta cardinalidad y una variable float \"pvalue\" cuyo valor por defecto será 0.05.\n",
    "\n",
    "La función debe devolver una lista con las columnas categóricas del dataframe cuyo test de relación con la columna designada por 'target_col' supere en confianza estadística el test de relación que sea necesario hacer (es decir la función debe poder escoger cuál de los dos test que hemos aprendido tiene que hacer).\n",
    "\n",
    "La función debe hacer todas las comprobaciones necesarias para no dar error como consecuecia de los valores de entrada. Es decir hará un check de los valores asignados a los argumentos de entrada y si estos no son adecuados debe retornar None y printar por pantalla la razón de este comportamiento. Ojo entre las comprobaciones debe estar que \"target_col\" hace referencia a una variable numérica continua del dataframe."
   ]
  },
  {
   "cell_type": "markdown",
   "id": "49219a44",
   "metadata": {},
   "source": [
    "\n",
    "[PENDING] Try and except ---> evaluar los valores asignados a los argumentos de entrada y retornar 'None' con el error correspondiente.\n",
    "\n",
    "[CHECK!!] Llamar a la función cardinalidad para que nos tipifique las columnas del dataset y guardar las categóricas en una variable\n",
    "\n",
    "[CHECK!!] Poner inputs para que el usuario establezca los umbrales requeridos en los argumentos de la cardinalidad\n",
    "\n",
    "[CHECK] Análisis un bivariante de las categóricas contra la target, medir ratios y frecuencias \n",
    "\n",
    "[CHECK] Análisis bivariante numérica (target) vs categórica (lista de categóricas) mediante test de hipótesis U de Mann-Whitney & ANOVA\n",
    "\n",
    "[CHECK] Que distinga cuál de los dos tests debe aplicar: U de Mann-Whitney --> Binarias   ///  ANOVA --> resto de categóricas\n",
    "\n",
    "[CHECK] Return --> lista de variables que superen en confianza estadística el test de relación pertinente"
   ]
  },
  {
   "cell_type": "code",
   "execution_count": 88,
   "id": "65d78023",
   "metadata": {},
   "outputs": [],
   "source": [
    "def get_features_cat_regression(dataframe, target_col = float, pvalue = 0.05): \n",
    "    \n",
    "    \"\"\"\n",
    "    DESCRIPCIÓN:\n",
    "\n",
    "    Análisis bivariante de la variable target contra las variables categóricas de un dataset para su posterior selección de features categóricas ante la construcción de un \n",
    "    hipotético modelo de regresión lineal.\n",
    "\n",
    "    REQUISITOS:\n",
    "    \n",
    "    Es necesario importar mannwhitneyu y stats de scipy, ejecuta:\n",
    "    \n",
    "    from scipy.stats import mannwhitneyu \n",
    "    \n",
    "    from scipy import stats\n",
    "\n",
    "    ARGUMENTOS:\n",
    "\n",
    "    param1 (DataFrame): Dataset de train del conjunto de datos de un hipotético modelo de regresión lineal que queremos entrenar\n",
    "\n",
    "    param2 (float): Columna del dataset que constiuye el 'target' de nuestro hipotético modelo de regresión. Variable numérica continua o discreta con alta cardinalidad\n",
    "\n",
    "    param3 (float): Valor del pvalue (default = 0.05) \n",
    "\n",
    "    RETURN:\n",
    "\n",
    "    (list): Variables categóricas que superen en confianza estadística el test de relación pertinente tras un análisis bivariante.\n",
    "\n",
    "    \"\"\"\n",
    "    input_cat = int(input(\"CÁLCULO CARDINALIDAD DE VARIABLES. Introduce un valor para el umbral de categorias (en cifras, ej: 3; no escribas 'tres')\"))\n",
    "    input_num = int(input(\"CÁLCULO CARDINALIDAD DE VARIABLES. Introduce un valor para el umbral de las númericas continuas (en cifras, ej: 30; no escribas 'treinta')\"))\n",
    "    \n",
    "    # tipificamos en función de la cardinalidad y lo instanciamos\n",
    "    df_tipo = tipifica_variables(dataframe, umbral_categoria= input_cat, umbral_continua= input_num)   \n",
    "\n",
    "    # me quedo con las categóricas y las vuelco en una lista el nombre de la variable, que está en el índice del dataset\n",
    "    \n",
    "    es_catego = df_tipo.Tipo == \"Categórica\"\n",
    "    es_binaria = df_tipo.Tipo == \"Binaria\"\n",
    "\n",
    "    lista_categoricas = df_tipo.loc[es_catego | es_binaria].index.to_list()\n",
    "\n",
    "    for categoria in lista_categoricas:\n",
    "        features_categoricas = []\n",
    "\n",
    "        # si mi variable es binaria, aplicamos U de Mann-Whitney\n",
    "\n",
    "        if len(dataframe[categoria].unique()) == 2:      \n",
    "            \n",
    "            # from scipy.stats import mannwhitneyu --> preguntar si esto debería ir aquí o añadir en el stringdoc que es necesario importarlo para usar la función\n",
    "            \n",
    "            es_a = dataframe[categoria].unique()[0]   # obtengo las dos agrupaciones\n",
    "            es_b = dataframe[categoria].unique()[1]\n",
    "            \n",
    "            grupo_a = dataframe.loc[dataframe[categoria] == es_a][target_col]   # y separo mi dataset en función de ellas\n",
    "            grupo_b = dataframe.loc[dataframe[categoria] == es_b][target_col]\n",
    "            \n",
    "            u_stat, p_valor = mannwhitneyu(grupo_a, grupo_b)\n",
    "\n",
    "            if p_valor <= 0.05:\n",
    "                features_categoricas.append(categoria)\n",
    "            \n",
    "\n",
    "        # si no es binaria, aplicamos ANOVA\n",
    "\n",
    "        else:   \n",
    "            # from scipy import stats \n",
    "            grupos = dataframe[categoria].unique()  # obtengo todos valores de la variable\n",
    "\n",
    "            # obtenemos los valores del target por cada valor de las diferentes categorias con un list comprehension \n",
    "            argumento_stats = [dataframe[dataframe[categoria] == grupo][target_col] for grupo in grupos] \n",
    "                 \n",
    "            f_val, p_valor = stats.f_oneway(*argumento_stats) # El método * separa todos los elementos de la lista y los pasa como argumento a la función                                                   \n",
    "\n",
    "            if p_valor <= 0.05:\n",
    "                features_categoricas.append(categoria)\n",
    "\n",
    "    return features_categoricas  \n"
   ]
  },
  {
   "cell_type": "code",
   "execution_count": null,
   "id": "6754ee40",
   "metadata": {},
   "outputs": [
    {
     "data": {
      "text/plain": [
       "['alone']"
      ]
     },
     "execution_count": 87,
     "metadata": {},
     "output_type": "execute_result"
    }
   ],
   "source": [
    "get_features_cat_regression(df_titanic, \"fare\")"
   ]
  },
  {
   "cell_type": "code",
   "execution_count": 89,
   "id": "004639bd",
   "metadata": {},
   "outputs": [
    {
     "data": {
      "text/plain": [
       "['ocean_proximity']"
      ]
     },
     "execution_count": 89,
     "metadata": {},
     "output_type": "execute_result"
    }
   ],
   "source": [
    "get_features_cat_regression(df_housing, \"median_house_value\")"
   ]
  },
  {
   "cell_type": "code",
   "execution_count": 105,
   "id": "1999bec8",
   "metadata": {},
   "outputs": [
    {
     "data": {
      "text/plain": [
       "['enginelocation']"
      ]
     },
     "execution_count": 105,
     "metadata": {},
     "output_type": "execute_result"
    }
   ],
   "source": [
    "get_features_cat_regression(df_car, \"price\")"
   ]
  },
  {
   "cell_type": "code",
   "execution_count": 104,
   "id": "17ad77c1",
   "metadata": {},
   "outputs": [
    {
     "data": {
      "text/plain": [
       "Index(['car_ID', 'symboling', 'CarName', 'fueltype', 'aspiration',\n",
       "       'doornumber', 'carbody', 'drivewheel', 'enginelocation', 'wheelbase',\n",
       "       'carlength', 'carwidth', 'carheight', 'curbweight', 'enginetype',\n",
       "       'cylindernumber', 'enginesize', 'fuelsystem', 'boreratio', 'stroke',\n",
       "       'compressionratio', 'horsepower', 'peakrpm', 'citympg', 'highwaympg',\n",
       "       'price'],\n",
       "      dtype='object')"
      ]
     },
     "execution_count": 104,
     "metadata": {},
     "output_type": "execute_result"
    }
   ],
   "source": [
    "df_car.columns"
   ]
  },
  {
   "cell_type": "code",
   "execution_count": null,
   "id": "339fa02b",
   "metadata": {},
   "outputs": [],
   "source": []
  }
 ],
 "metadata": {
  "kernelspec": {
   "display_name": "Python 3 (ipykernel)",
   "language": "python",
   "name": "python3"
  },
  "language_info": {
   "codemirror_mode": {
    "name": "ipython",
    "version": 3
   },
   "file_extension": ".py",
   "mimetype": "text/x-python",
   "name": "python",
   "nbconvert_exporter": "python",
   "pygments_lexer": "ipython3",
   "version": "3.12.1"
  }
 },
 "nbformat": 4,
 "nbformat_minor": 5
}
